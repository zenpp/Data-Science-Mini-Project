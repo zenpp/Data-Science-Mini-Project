{
  "nbformat": 4,
  "nbformat_minor": 0,
  "metadata": {
    "colab": {
      "name": "Iris - KNN.ipynb",
      "provenance": [],
      "collapsed_sections": [],
      "include_colab_link": true
    },
    "kernelspec": {
      "name": "python3",
      "display_name": "Python 3"
    }
  },
  "cells": [
    {
      "cell_type": "markdown",
      "metadata": {
        "id": "view-in-github",
        "colab_type": "text"
      },
      "source": [
        "<a href=\"https://colab.research.google.com/github/zenpp/Data-Science-Mini-Project/blob/master/Iris/Iris_KNN.ipynb\" target=\"_parent\"><img src=\"https://colab.research.google.com/assets/colab-badge.svg\" alt=\"Open In Colab\"/></a>"
      ]
    },
    {
      "cell_type": "code",
      "metadata": {
        "id": "MhEpETU5Dgd0",
        "colab_type": "code",
        "colab": {}
      },
      "source": [
        "import pandas as pd\n",
        "import numpy as np\n",
        "from matplotlib import pyplot as plt\n",
        "%matplotlib inline"
      ],
      "execution_count": 0,
      "outputs": []
    },
    {
      "cell_type": "code",
      "metadata": {
        "id": "Rypq2lw4TTCp",
        "colab_type": "code",
        "outputId": "1e2b5dcc-4c82-4a75-9f50-b2c5bf9280a2",
        "colab": {
          "base_uri": "https://localhost:8080/",
          "height": 204
        }
      },
      "source": [
        "#import data\n",
        "iris_url = 'https://archive.ics.uci.edu/ml/machine-learning-databases/iris/iris.data'\n",
        "col_head = ['sepal-length', 'sepal-width', 'petal-length', 'petal-width', 'Class']\n",
        "iris = pd.read_csv(iris_url,names=col_head)\n",
        "iris.head()"
      ],
      "execution_count": 0,
      "outputs": [
        {
          "output_type": "execute_result",
          "data": {
            "text/html": [
              "<div>\n",
              "<style scoped>\n",
              "    .dataframe tbody tr th:only-of-type {\n",
              "        vertical-align: middle;\n",
              "    }\n",
              "\n",
              "    .dataframe tbody tr th {\n",
              "        vertical-align: top;\n",
              "    }\n",
              "\n",
              "    .dataframe thead th {\n",
              "        text-align: right;\n",
              "    }\n",
              "</style>\n",
              "<table border=\"1\" class=\"dataframe\">\n",
              "  <thead>\n",
              "    <tr style=\"text-align: right;\">\n",
              "      <th></th>\n",
              "      <th>sepal-length</th>\n",
              "      <th>sepal-width</th>\n",
              "      <th>petal-length</th>\n",
              "      <th>petal-width</th>\n",
              "      <th>Class</th>\n",
              "    </tr>\n",
              "  </thead>\n",
              "  <tbody>\n",
              "    <tr>\n",
              "      <th>0</th>\n",
              "      <td>5.1</td>\n",
              "      <td>3.5</td>\n",
              "      <td>1.4</td>\n",
              "      <td>0.2</td>\n",
              "      <td>Iris-setosa</td>\n",
              "    </tr>\n",
              "    <tr>\n",
              "      <th>1</th>\n",
              "      <td>4.9</td>\n",
              "      <td>3.0</td>\n",
              "      <td>1.4</td>\n",
              "      <td>0.2</td>\n",
              "      <td>Iris-setosa</td>\n",
              "    </tr>\n",
              "    <tr>\n",
              "      <th>2</th>\n",
              "      <td>4.7</td>\n",
              "      <td>3.2</td>\n",
              "      <td>1.3</td>\n",
              "      <td>0.2</td>\n",
              "      <td>Iris-setosa</td>\n",
              "    </tr>\n",
              "    <tr>\n",
              "      <th>3</th>\n",
              "      <td>4.6</td>\n",
              "      <td>3.1</td>\n",
              "      <td>1.5</td>\n",
              "      <td>0.2</td>\n",
              "      <td>Iris-setosa</td>\n",
              "    </tr>\n",
              "    <tr>\n",
              "      <th>4</th>\n",
              "      <td>5.0</td>\n",
              "      <td>3.6</td>\n",
              "      <td>1.4</td>\n",
              "      <td>0.2</td>\n",
              "      <td>Iris-setosa</td>\n",
              "    </tr>\n",
              "  </tbody>\n",
              "</table>\n",
              "</div>"
            ],
            "text/plain": [
              "   sepal-length  sepal-width  petal-length  petal-width        Class\n",
              "0           5.1          3.5           1.4          0.2  Iris-setosa\n",
              "1           4.9          3.0           1.4          0.2  Iris-setosa\n",
              "2           4.7          3.2           1.3          0.2  Iris-setosa\n",
              "3           4.6          3.1           1.5          0.2  Iris-setosa\n",
              "4           5.0          3.6           1.4          0.2  Iris-setosa"
            ]
          },
          "metadata": {
            "tags": []
          },
          "execution_count": 5
        }
      ]
    },
    {
      "cell_type": "code",
      "metadata": {
        "id": "O6ze9VJ0WSWX",
        "colab_type": "code",
        "outputId": "59f6fdf6-903a-45ef-d272-538332f32a00",
        "colab": {
          "base_uri": "https://localhost:8080/",
          "height": 187
        }
      },
      "source": [
        "iris.info()"
      ],
      "execution_count": 0,
      "outputs": [
        {
          "output_type": "stream",
          "text": [
            "<class 'pandas.core.frame.DataFrame'>\n",
            "RangeIndex: 150 entries, 0 to 149\n",
            "Data columns (total 5 columns):\n",
            "sepal-length    150 non-null float64\n",
            "sepal-width     150 non-null float64\n",
            "petal-length    150 non-null float64\n",
            "petal-width     150 non-null float64\n",
            "Class           150 non-null object\n",
            "dtypes: float64(4), object(1)\n",
            "memory usage: 5.9+ KB\n"
          ],
          "name": "stdout"
        }
      ]
    },
    {
      "cell_type": "code",
      "metadata": {
        "id": "yFW9akU8TwC4",
        "colab_type": "code",
        "colab": {}
      },
      "source": [
        "#split features and labels\n",
        "X = iris.iloc[:,:-1].values\n",
        "y = iris.iloc[:,4].values"
      ],
      "execution_count": 0,
      "outputs": []
    },
    {
      "cell_type": "code",
      "metadata": {
        "id": "5GGuitXhWh-H",
        "colab_type": "code",
        "colab": {}
      },
      "source": [
        "#train test split\n",
        "from sklearn.model_selection import train_test_split\n",
        "X_train, X_test, y_train, y_test = train_test_split(X,y,test_size=0.3)"
      ],
      "execution_count": 0,
      "outputs": []
    },
    {
      "cell_type": "code",
      "metadata": {
        "id": "IKCla-qwXCuA",
        "colab_type": "code",
        "outputId": "bc5807fa-61ce-4613-a8cd-fb0bab6d6696",
        "colab": {
          "base_uri": "https://localhost:8080/",
          "height": 34
        }
      },
      "source": [
        "#feature scaling because data has a broad value, so we should normalize it first\n",
        "from sklearn.preprocessing import StandardScaler\n",
        "scaler = StandardScaler()\n",
        "scaler.fit(X_train)\n",
        "\n",
        "X_train = scaler.transform(X_train)\n",
        "X_test = scaler.transform(X_test)"
      ],
      "execution_count": 0,
      "outputs": [
        {
          "output_type": "execute_result",
          "data": {
            "text/plain": [
              "array([-0.78369832,  1.05779689, -1.23422342, -1.24168677])"
            ]
          },
          "metadata": {
            "tags": []
          },
          "execution_count": 23
        }
      ]
    },
    {
      "cell_type": "code",
      "metadata": {
        "id": "X1fIMfZ3YQM5",
        "colab_type": "code",
        "outputId": "ea89097c-9258-46f2-9780-229daffcd6ef",
        "colab": {
          "base_uri": "https://localhost:8080/",
          "height": 68
        }
      },
      "source": [
        "#training with k=5\n",
        "from sklearn.neighbors import KNeighborsClassifier\n",
        "classifier = KNeighborsClassifier(n_neighbors = 5)\n",
        "classifier.fit(X_train,y_train)"
      ],
      "execution_count": 0,
      "outputs": [
        {
          "output_type": "execute_result",
          "data": {
            "text/plain": [
              "KNeighborsClassifier(algorithm='auto', leaf_size=30, metric='minkowski',\n",
              "                     metric_params=None, n_jobs=None, n_neighbors=5, p=2,\n",
              "                     weights='uniform')"
            ]
          },
          "metadata": {
            "tags": []
          },
          "execution_count": 20
        }
      ]
    },
    {
      "cell_type": "code",
      "metadata": {
        "id": "l7FCIpiqY_b1",
        "colab_type": "code",
        "outputId": "5ba580df-ec67-4030-fc2b-6c08984dfa75",
        "colab": {
          "base_uri": "https://localhost:8080/",
          "height": 238
        }
      },
      "source": [
        "#prediction\n",
        "y_pred = classifier.predict(X_test)\n",
        "y_pred"
      ],
      "execution_count": 0,
      "outputs": [
        {
          "output_type": "execute_result",
          "data": {
            "text/plain": [
              "array(['Iris-versicolor', 'Iris-setosa', 'Iris-virginica', 'Iris-setosa',\n",
              "       'Iris-setosa', 'Iris-virginica', 'Iris-setosa', 'Iris-versicolor',\n",
              "       'Iris-versicolor', 'Iris-virginica', 'Iris-virginica',\n",
              "       'Iris-setosa', 'Iris-setosa', 'Iris-versicolor', 'Iris-virginica',\n",
              "       'Iris-setosa', 'Iris-setosa', 'Iris-versicolor', 'Iris-versicolor',\n",
              "       'Iris-versicolor', 'Iris-virginica', 'Iris-versicolor',\n",
              "       'Iris-versicolor', 'Iris-versicolor', 'Iris-versicolor',\n",
              "       'Iris-virginica', 'Iris-virginica', 'Iris-setosa', 'Iris-setosa',\n",
              "       'Iris-setosa', 'Iris-setosa', 'Iris-virginica', 'Iris-versicolor',\n",
              "       'Iris-virginica', 'Iris-versicolor', 'Iris-versicolor',\n",
              "       'Iris-virginica', 'Iris-virginica', 'Iris-virginica',\n",
              "       'Iris-versicolor', 'Iris-virginica', 'Iris-versicolor',\n",
              "       'Iris-versicolor', 'Iris-virginica', 'Iris-setosa'], dtype=object)"
            ]
          },
          "metadata": {
            "tags": []
          },
          "execution_count": 26
        }
      ]
    },
    {
      "cell_type": "code",
      "metadata": {
        "id": "xxfjbi1SZP12",
        "colab_type": "code",
        "outputId": "034b2342-af04-47b9-e788-01c29ed48ea8",
        "colab": {
          "base_uri": "https://localhost:8080/",
          "height": 187
        }
      },
      "source": [
        "#model evaluation\n",
        "from sklearn.metrics import classification_report\n",
        "print(classification_report(y_test,y_pred))"
      ],
      "execution_count": 0,
      "outputs": [
        {
          "output_type": "stream",
          "text": [
            "                 precision    recall  f1-score   support\n",
            "\n",
            "    Iris-setosa       1.00      1.00      1.00        13\n",
            "Iris-versicolor       0.94      0.94      0.94        17\n",
            " Iris-virginica       0.93      0.93      0.93        15\n",
            "\n",
            "       accuracy                           0.96        45\n",
            "      macro avg       0.96      0.96      0.96        45\n",
            "   weighted avg       0.96      0.96      0.96        45\n",
            "\n"
          ],
          "name": "stdout"
        }
      ]
    },
    {
      "cell_type": "code",
      "metadata": {
        "id": "GHUAVsAmdRTa",
        "colab_type": "code",
        "outputId": "b9f2c7ca-1711-4c40-ea20-5e7624000a41",
        "colab": {
          "base_uri": "https://localhost:8080/",
          "height": 1000
        }
      },
      "source": [
        "#try k = [1,100] and see the result of each k\n",
        "err = []\n",
        "for i in range(1,100):\n",
        "  classifier = KNeighborsClassifier(n_neighbors = i)\n",
        "  classifier.fit(X_train,y_train)\n",
        "  pred_i = classifier.predict(X_test)\n",
        "  err.append(np.mean(pred_i != y_test))\n",
        "err"
      ],
      "execution_count": 0,
      "outputs": [
        {
          "output_type": "execute_result",
          "data": {
            "text/plain": [
              "[0.06666666666666667,\n",
              " 0.08888888888888889,\n",
              " 0.044444444444444446,\n",
              " 0.06666666666666667,\n",
              " 0.044444444444444446,\n",
              " 0.022222222222222223,\n",
              " 0.022222222222222223,\n",
              " 0.022222222222222223,\n",
              " 0.044444444444444446,\n",
              " 0.044444444444444446,\n",
              " 0.022222222222222223,\n",
              " 0.044444444444444446,\n",
              " 0.022222222222222223,\n",
              " 0.044444444444444446,\n",
              " 0.06666666666666667,\n",
              " 0.06666666666666667,\n",
              " 0.06666666666666667,\n",
              " 0.044444444444444446,\n",
              " 0.044444444444444446,\n",
              " 0.044444444444444446,\n",
              " 0.06666666666666667,\n",
              " 0.08888888888888889,\n",
              " 0.08888888888888889,\n",
              " 0.13333333333333333,\n",
              " 0.1111111111111111,\n",
              " 0.13333333333333333,\n",
              " 0.13333333333333333,\n",
              " 0.13333333333333333,\n",
              " 0.13333333333333333,\n",
              " 0.1111111111111111,\n",
              " 0.17777777777777778,\n",
              " 0.17777777777777778,\n",
              " 0.17777777777777778,\n",
              " 0.15555555555555556,\n",
              " 0.2,\n",
              " 0.17777777777777778,\n",
              " 0.2222222222222222,\n",
              " 0.2222222222222222,\n",
              " 0.2222222222222222,\n",
              " 0.17777777777777778,\n",
              " 0.2,\n",
              " 0.2,\n",
              " 0.2222222222222222,\n",
              " 0.2,\n",
              " 0.2,\n",
              " 0.2,\n",
              " 0.2222222222222222,\n",
              " 0.2222222222222222,\n",
              " 0.2222222222222222,\n",
              " 0.2,\n",
              " 0.2222222222222222,\n",
              " 0.2222222222222222,\n",
              " 0.2222222222222222,\n",
              " 0.2222222222222222,\n",
              " 0.2222222222222222,\n",
              " 0.2222222222222222,\n",
              " 0.2222222222222222,\n",
              " 0.2222222222222222,\n",
              " 0.2222222222222222,\n",
              " 0.2222222222222222,\n",
              " 0.2222222222222222,\n",
              " 0.2222222222222222,\n",
              " 0.24444444444444444,\n",
              " 0.24444444444444444,\n",
              " 0.24444444444444444,\n",
              " 0.24444444444444444,\n",
              " 0.24444444444444444,\n",
              " 0.24444444444444444,\n",
              " 0.24444444444444444,\n",
              " 0.2222222222222222,\n",
              " 0.2222222222222222,\n",
              " 0.2222222222222222,\n",
              " 0.2222222222222222,\n",
              " 0.2222222222222222,\n",
              " 0.2222222222222222,\n",
              " 0.2222222222222222,\n",
              " 0.2222222222222222,\n",
              " 0.2222222222222222,\n",
              " 0.2222222222222222,\n",
              " 0.2222222222222222,\n",
              " 0.2222222222222222,\n",
              " 0.2222222222222222,\n",
              " 0.2222222222222222,\n",
              " 0.2222222222222222,\n",
              " 0.2222222222222222,\n",
              " 0.2222222222222222,\n",
              " 0.2222222222222222,\n",
              " 0.2,\n",
              " 0.2222222222222222,\n",
              " 0.2,\n",
              " 0.2222222222222222,\n",
              " 0.2222222222222222,\n",
              " 0.2222222222222222,\n",
              " 0.2222222222222222,\n",
              " 0.3111111111111111,\n",
              " 0.28888888888888886,\n",
              " 0.35555555555555557,\n",
              " 0.4,\n",
              " 0.4]"
            ]
          },
          "metadata": {
            "tags": []
          },
          "execution_count": 30
        }
      ]
    },
    {
      "cell_type": "code",
      "metadata": {
        "id": "Dh7S0pncedUd",
        "colab_type": "code",
        "outputId": "634cee6b-70a2-4ea4-8478-d4c3a8b09465",
        "colab": {
          "base_uri": "https://localhost:8080/",
          "height": 286
        }
      },
      "source": [
        "import seaborn as sns\n",
        "sns.lineplot(x = np.arange(1,100) , y = err)"
      ],
      "execution_count": 0,
      "outputs": [
        {
          "output_type": "execute_result",
          "data": {
            "text/plain": [
              "<matplotlib.axes._subplots.AxesSubplot at 0x7f309b944b38>"
            ]
          },
          "metadata": {
            "tags": []
          },
          "execution_count": 34
        },
        {
          "output_type": "display_data",
          "data": {
            "image/png": "[encoded data removed]",
            "text/plain": [
              "<Figure size 432x288 with 1 Axes>"
            ]
          },
          "metadata": {
            "tags": []
          }
        }
      ]
    },
    {
      "cell_type": "markdown",
      "metadata": {
        "id": "JslSwmUcfMHd",
        "colab_type": "text"
      },
      "source": [
        "Seems like KNN give a good result on this data set\n",
        "only when k < 20"
      ]
    }
  ]
}