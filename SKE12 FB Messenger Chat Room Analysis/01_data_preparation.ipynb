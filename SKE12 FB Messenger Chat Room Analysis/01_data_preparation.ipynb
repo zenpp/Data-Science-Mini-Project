{
  "nbformat": 4,
  "nbformat_minor": 0,
  "metadata": {
    "colab": {
      "name": "01_data_preparation.ipynb",
      "provenance": [],
      "collapsed_sections": [],
      "toc_visible": true,
      "include_colab_link": true
    },
    "kernelspec": {
      "name": "python3",
      "display_name": "Python 3"
    }
  },
  "cells": [
    {
      "cell_type": "markdown",
      "metadata": {
        "id": "view-in-github",
        "colab_type": "text"
      },
      "source": [
        "<a href=\"https://colab.research.google.com/github/zenpp/Data-Science-Mini-Project/blob/master/SKE12%20FB%20Messenger%20Chat%20Room%20Analysis/01_data_preparation.ipynb\" target=\"_parent\"><img src=\"https://colab.research.google.com/assets/colab-badge.svg\" alt=\"Open In Colab\"/></a>"
      ]
    },
    {
      "cell_type": "markdown",
      "metadata": {
        "id": "ihI8lCtrJPiN",
        "colab_type": "text"
      },
      "source": [
        "Import necessary libraries"
      ]
    },
    {
      "cell_type": "code",
      "metadata": {
        "id": "Or8bQy9QtlTZ",
        "colab_type": "code",
        "colab": {}
      },
      "source": [
        "import pandas as pd\n",
        "import numpy as np\n",
        "import json\n",
        "from datetime import datetime"
      ],
      "execution_count": 0,
      "outputs": []
    },
    {
      "cell_type": "markdown",
      "metadata": {
        "id": "akM6-R4FJVLz",
        "colab_type": "text"
      },
      "source": [
        "Mounted Google Drive to this Colab"
      ]
    },
    {
      "cell_type": "code",
      "metadata": {
        "id": "SCQ871NzTg5K",
        "colab_type": "code",
        "outputId": "ece6c3df-1d13-4f36-be83-c4fdb381027e",
        "colab": {
          "base_uri": "https://localhost:8080/",
          "height": 54
        }
      },
      "source": [
        "from google.colab import drive\n",
        "drive.mount('/content/drive')"
      ],
      "execution_count": 30,
      "outputs": [
        {
          "output_type": "stream",
          "text": [
            "Drive already mounted at /content/drive; to attempt to forcibly remount, call drive.mount(\"/content/drive\", force_remount=True).\n"
          ],
          "name": "stdout"
        }
      ]
    },
    {
      "cell_type": "markdown",
      "metadata": {
        "id": "gTygJzwNK0tn",
        "colab_type": "text"
      },
      "source": [
        "Load JSON files into single pandas data frame "
      ]
    },
    {
      "cell_type": "code",
      "metadata": {
        "id": "u8CAriLkUkc4",
        "colab_type": "code",
        "outputId": "76beb974-ddec-4586-e641-9d6ba29c7f7d",
        "colab": {
          "base_uri": "https://localhost:8080/",
          "height": 102
        }
      },
      "source": [
        "path = '/content/drive/My Drive/Shareable /Data Science Projects/SKE12 2019 Chat Room Analytics/'\n",
        "temp_data = []\n",
        "for i in range(1,10):\n",
        "  with open(path + 'raw_data/message_' + str(i) +'.json' , encoding = 'utf-8') as f:\n",
        "    raw = json.load(f)\n",
        "    raw_df = pd.DataFrame.from_dict(raw['messages'])\n",
        "    temp_data.append(raw_df)\n",
        "data = pd.concat(temp_data, sort = False)\n",
        "print(data.shape)\n",
        "print(data.columns)"
      ],
      "execution_count": 77,
      "outputs": [
        {
          "output_type": "stream",
          "text": [
            "(81333, 13)\n",
            "Index(['sender_name', 'timestamp_ms', 'content', 'type', 'gifs', 'share',\n",
            "       'photos', 'reactions', 'sticker', 'videos', 'users', 'audio_files',\n",
            "       'files'],\n",
            "      dtype='object')\n"
          ],
          "name": "stdout"
        }
      ]
    },
    {
      "cell_type": "markdown",
      "metadata": {
        "id": "pPbSsTJRJI_h",
        "colab_type": "text"
      },
      "source": [
        "Encode sender name for their own privacy"
      ]
    },
    {
      "cell_type": "code",
      "metadata": {
        "id": "yZlvJQ8uIryc",
        "colab_type": "code",
        "colab": {
          "base_uri": "https://localhost:8080/",
          "height": 258
        },
        "outputId": "0910953d-f801-4c84-ec65-ed7b901e49be"
      },
      "source": [
        "def encode_name(name):\n",
        "  arr = name.split(' ')\n",
        "  return arr[0][::-1]\n",
        "data['sender_name'] = data['sender_name'].apply(encode_name)\n",
        "data.head(5)"
      ],
      "execution_count": 78,
      "outputs": [
        {
          "output_type": "execute_result",
          "data": {
            "text/html": [
              "<div>\n",
              "<style scoped>\n",
              "    .dataframe tbody tr th:only-of-type {\n",
              "        vertical-align: middle;\n",
              "    }\n",
              "\n",
              "    .dataframe tbody tr th {\n",
              "        vertical-align: top;\n",
              "    }\n",
              "\n",
              "    .dataframe thead th {\n",
              "        text-align: right;\n",
              "    }\n",
              "</style>\n",
              "<table border=\"1\" class=\"dataframe\">\n",
              "  <thead>\n",
              "    <tr style=\"text-align: right;\">\n",
              "      <th></th>\n",
              "      <th>sender_name</th>\n",
              "      <th>timestamp_ms</th>\n",
              "      <th>content</th>\n",
              "      <th>type</th>\n",
              "      <th>gifs</th>\n",
              "      <th>share</th>\n",
              "      <th>photos</th>\n",
              "      <th>reactions</th>\n",
              "      <th>sticker</th>\n",
              "      <th>videos</th>\n",
              "      <th>users</th>\n",
              "      <th>audio_files</th>\n",
              "      <th>files</th>\n",
              "    </tr>\n",
              "  </thead>\n",
              "  <tbody>\n",
              "    <tr>\n",
              "      <th>0</th>\n",
              "      <td>lopajneB</td>\n",
              "      <td>1577730648439</td>\n",
              "      <td>à¹à¸à¹à¸£à¸·à¹à¸­à¸¢ 555â grammar nazið...</td>\n",
              "      <td>Generic</td>\n",
              "      <td>NaN</td>\n",
              "      <td>NaN</td>\n",
              "      <td>NaN</td>\n",
              "      <td>NaN</td>\n",
              "      <td>NaN</td>\n",
              "      <td>NaN</td>\n",
              "      <td>NaN</td>\n",
              "      <td>NaN</td>\n",
              "      <td>NaN</td>\n",
              "    </tr>\n",
              "    <tr>\n",
              "      <th>1</th>\n",
              "      <td>tanapuS</td>\n",
              "      <td>1577730637269</td>\n",
              "      <td>à¹à¸à¹à¸²à¸à¸²à¸§à¸¡à¸µà¸à¸¥à¸¸à¸¡à¸«à¸²à...</td>\n",
              "      <td>Generic</td>\n",
              "      <td>NaN</td>\n",
              "      <td>NaN</td>\n",
              "      <td>NaN</td>\n",
              "      <td>NaN</td>\n",
              "      <td>NaN</td>\n",
              "      <td>NaN</td>\n",
              "      <td>NaN</td>\n",
              "      <td>NaN</td>\n",
              "      <td>NaN</td>\n",
              "    </tr>\n",
              "    <tr>\n",
              "      <th>2</th>\n",
              "      <td>tanapuS</td>\n",
              "      <td>1577730627550</td>\n",
              "      <td>5555555</td>\n",
              "      <td>Generic</td>\n",
              "      <td>NaN</td>\n",
              "      <td>NaN</td>\n",
              "      <td>NaN</td>\n",
              "      <td>NaN</td>\n",
              "      <td>NaN</td>\n",
              "      <td>NaN</td>\n",
              "      <td>NaN</td>\n",
              "      <td>NaN</td>\n",
              "      <td>NaN</td>\n",
              "    </tr>\n",
              "    <tr>\n",
              "      <th>3</th>\n",
              "      <td>tanapuS</td>\n",
              "      <td>1577730625714</td>\n",
              "      <td>à¸¡à¸±à¸à¸¡à¸µà¸à¸µà¹à¸ à¹à¸à¸¥à¸à¸à¸·...</td>\n",
              "      <td>Generic</td>\n",
              "      <td>NaN</td>\n",
              "      <td>NaN</td>\n",
              "      <td>NaN</td>\n",
              "      <td>NaN</td>\n",
              "      <td>NaN</td>\n",
              "      <td>NaN</td>\n",
              "      <td>NaN</td>\n",
              "      <td>NaN</td>\n",
              "      <td>NaN</td>\n",
              "    </tr>\n",
              "    <tr>\n",
              "      <th>4</th>\n",
              "      <td>lasiapanattartreL</td>\n",
              "      <td>1577729604405</td>\n",
              "      <td>à¸¡à¸±à¸à¸¡à¸µà¹à¸£à¸¡à¸±à¹à¸555</td>\n",
              "      <td>Generic</td>\n",
              "      <td>NaN</td>\n",
              "      <td>NaN</td>\n",
              "      <td>NaN</td>\n",
              "      <td>NaN</td>\n",
              "      <td>NaN</td>\n",
              "      <td>NaN</td>\n",
              "      <td>NaN</td>\n",
              "      <td>NaN</td>\n",
              "      <td>NaN</td>\n",
              "    </tr>\n",
              "  </tbody>\n",
              "</table>\n",
              "</div>"
            ],
            "text/plain": [
              "         sender_name   timestamp_ms  ... audio_files files\n",
              "0           lopajneB  1577730648439  ...         NaN   NaN\n",
              "1            tanapuS  1577730637269  ...         NaN   NaN\n",
              "2            tanapuS  1577730627550  ...         NaN   NaN\n",
              "3            tanapuS  1577730625714  ...         NaN   NaN\n",
              "4  lasiapanattartreL  1577729604405  ...         NaN   NaN\n",
              "\n",
              "[5 rows x 13 columns]"
            ]
          },
          "metadata": {
            "tags": []
          },
          "execution_count": 78
        }
      ]
    },
    {
      "cell_type": "markdown",
      "metadata": {
        "id": "Hj73HK9CLt2V",
        "colab_type": "text"
      },
      "source": [
        "Change timestamp in millisecond into regular date time format"
      ]
    },
    {
      "cell_type": "code",
      "metadata": {
        "id": "UE6p1bJGA10A",
        "colab_type": "code",
        "colab": {
          "base_uri": "https://localhost:8080/",
          "height": 309
        },
        "outputId": "c0678ad5-0cbd-466b-f6c1-a04d4f1d4fc9"
      },
      "source": [
        "data['timestamp_ms'] = data['timestamp_ms'].apply(lambda x : datetime.fromtimestamp(round(x/1000.0)))\n",
        "data.head(5)"
      ],
      "execution_count": 79,
      "outputs": [
        {
          "output_type": "execute_result",
          "data": {
            "text/html": [
              "<div>\n",
              "<style scoped>\n",
              "    .dataframe tbody tr th:only-of-type {\n",
              "        vertical-align: middle;\n",
              "    }\n",
              "\n",
              "    .dataframe tbody tr th {\n",
              "        vertical-align: top;\n",
              "    }\n",
              "\n",
              "    .dataframe thead th {\n",
              "        text-align: right;\n",
              "    }\n",
              "</style>\n",
              "<table border=\"1\" class=\"dataframe\">\n",
              "  <thead>\n",
              "    <tr style=\"text-align: right;\">\n",
              "      <th></th>\n",
              "      <th>sender_name</th>\n",
              "      <th>timestamp_ms</th>\n",
              "      <th>content</th>\n",
              "      <th>type</th>\n",
              "      <th>gifs</th>\n",
              "      <th>share</th>\n",
              "      <th>photos</th>\n",
              "      <th>reactions</th>\n",
              "      <th>sticker</th>\n",
              "      <th>videos</th>\n",
              "      <th>users</th>\n",
              "      <th>audio_files</th>\n",
              "      <th>files</th>\n",
              "    </tr>\n",
              "  </thead>\n",
              "  <tbody>\n",
              "    <tr>\n",
              "      <th>0</th>\n",
              "      <td>lopajneB</td>\n",
              "      <td>2019-12-30 18:30:48</td>\n",
              "      <td>à¹à¸à¹à¸£à¸·à¹à¸­à¸¢ 555â grammar nazið...</td>\n",
              "      <td>Generic</td>\n",
              "      <td>NaN</td>\n",
              "      <td>NaN</td>\n",
              "      <td>NaN</td>\n",
              "      <td>NaN</td>\n",
              "      <td>NaN</td>\n",
              "      <td>NaN</td>\n",
              "      <td>NaN</td>\n",
              "      <td>NaN</td>\n",
              "      <td>NaN</td>\n",
              "    </tr>\n",
              "    <tr>\n",
              "      <th>1</th>\n",
              "      <td>tanapuS</td>\n",
              "      <td>2019-12-30 18:30:37</td>\n",
              "      <td>à¹à¸à¹à¸²à¸à¸²à¸§à¸¡à¸µà¸à¸¥à¸¸à¸¡à¸«à¸²à...</td>\n",
              "      <td>Generic</td>\n",
              "      <td>NaN</td>\n",
              "      <td>NaN</td>\n",
              "      <td>NaN</td>\n",
              "      <td>NaN</td>\n",
              "      <td>NaN</td>\n",
              "      <td>NaN</td>\n",
              "      <td>NaN</td>\n",
              "      <td>NaN</td>\n",
              "      <td>NaN</td>\n",
              "    </tr>\n",
              "    <tr>\n",
              "      <th>2</th>\n",
              "      <td>tanapuS</td>\n",
              "      <td>2019-12-30 18:30:28</td>\n",
              "      <td>5555555</td>\n",
              "      <td>Generic</td>\n",
              "      <td>NaN</td>\n",
              "      <td>NaN</td>\n",
              "      <td>NaN</td>\n",
              "      <td>NaN</td>\n",
              "      <td>NaN</td>\n",
              "      <td>NaN</td>\n",
              "      <td>NaN</td>\n",
              "      <td>NaN</td>\n",
              "      <td>NaN</td>\n",
              "    </tr>\n",
              "    <tr>\n",
              "      <th>3</th>\n",
              "      <td>tanapuS</td>\n",
              "      <td>2019-12-30 18:30:26</td>\n",
              "      <td>à¸¡à¸±à¸à¸¡à¸µà¸à¸µà¹à¸ à¹à¸à¸¥à¸à¸à¸·...</td>\n",
              "      <td>Generic</td>\n",
              "      <td>NaN</td>\n",
              "      <td>NaN</td>\n",
              "      <td>NaN</td>\n",
              "      <td>NaN</td>\n",
              "      <td>NaN</td>\n",
              "      <td>NaN</td>\n",
              "      <td>NaN</td>\n",
              "      <td>NaN</td>\n",
              "      <td>NaN</td>\n",
              "    </tr>\n",
              "    <tr>\n",
              "      <th>4</th>\n",
              "      <td>lasiapanattartreL</td>\n",
              "      <td>2019-12-30 18:13:24</td>\n",
              "      <td>à¸¡à¸±à¸à¸¡à¸µà¹à¸£à¸¡à¸±à¹à¸555</td>\n",
              "      <td>Generic</td>\n",
              "      <td>NaN</td>\n",
              "      <td>NaN</td>\n",
              "      <td>NaN</td>\n",
              "      <td>NaN</td>\n",
              "      <td>NaN</td>\n",
              "      <td>NaN</td>\n",
              "      <td>NaN</td>\n",
              "      <td>NaN</td>\n",
              "      <td>NaN</td>\n",
              "    </tr>\n",
              "  </tbody>\n",
              "</table>\n",
              "</div>"
            ],
            "text/plain": [
              "         sender_name        timestamp_ms  ... audio_files files\n",
              "0           lopajneB 2019-12-30 18:30:48  ...         NaN   NaN\n",
              "1            tanapuS 2019-12-30 18:30:37  ...         NaN   NaN\n",
              "2            tanapuS 2019-12-30 18:30:28  ...         NaN   NaN\n",
              "3            tanapuS 2019-12-30 18:30:26  ...         NaN   NaN\n",
              "4  lasiapanattartreL 2019-12-30 18:13:24  ...         NaN   NaN\n",
              "\n",
              "[5 rows x 13 columns]"
            ]
          },
          "metadata": {
            "tags": []
          },
          "execution_count": 79
        }
      ]
    },
    {
      "cell_type": "markdown",
      "metadata": {
        "id": "ChlBukT-RI0I",
        "colab_type": "text"
      },
      "source": [
        "Find content length of each message"
      ]
    },
    {
      "cell_type": "code",
      "metadata": {
        "id": "zsRlIFUgHQS7",
        "colab_type": "code",
        "colab": {
          "base_uri": "https://localhost:8080/",
          "height": 309
        },
        "outputId": "f3160af7-3f45-49ac-ace5-b860157d4972"
      },
      "source": [
        "def content_length(content):\n",
        "  content = str(content)\n",
        "  try:\n",
        "    if content is None or \"https\" in content or \"responded\" in content :\n",
        "      return 1\n",
        "    else :\n",
        "      return len(content)\n",
        "  except:\n",
        "    return 1\n",
        "data['content_length'] = data['content'].apply(content_length)\n",
        "data.head(5)"
      ],
      "execution_count": 103,
      "outputs": [
        {
          "output_type": "execute_result",
          "data": {
            "text/html": [
              "<div>\n",
              "<style scoped>\n",
              "    .dataframe tbody tr th:only-of-type {\n",
              "        vertical-align: middle;\n",
              "    }\n",
              "\n",
              "    .dataframe tbody tr th {\n",
              "        vertical-align: top;\n",
              "    }\n",
              "\n",
              "    .dataframe thead th {\n",
              "        text-align: right;\n",
              "    }\n",
              "</style>\n",
              "<table border=\"1\" class=\"dataframe\">\n",
              "  <thead>\n",
              "    <tr style=\"text-align: right;\">\n",
              "      <th></th>\n",
              "      <th>sender_name</th>\n",
              "      <th>timestamp_ms</th>\n",
              "      <th>content</th>\n",
              "      <th>type</th>\n",
              "      <th>gifs</th>\n",
              "      <th>share</th>\n",
              "      <th>photos</th>\n",
              "      <th>reactions</th>\n",
              "      <th>sticker</th>\n",
              "      <th>videos</th>\n",
              "      <th>users</th>\n",
              "      <th>audio_files</th>\n",
              "      <th>files</th>\n",
              "      <th>content_length</th>\n",
              "    </tr>\n",
              "  </thead>\n",
              "  <tbody>\n",
              "    <tr>\n",
              "      <th>0</th>\n",
              "      <td>lopajneB</td>\n",
              "      <td>2019-12-30 18:30:48</td>\n",
              "      <td>à¹à¸à¹à¸£à¸·à¹à¸­à¸¢ 555â grammar nazið...</td>\n",
              "      <td>Generic</td>\n",
              "      <td>NaN</td>\n",
              "      <td>NaN</td>\n",
              "      <td>NaN</td>\n",
              "      <td>NaN</td>\n",
              "      <td>NaN</td>\n",
              "      <td>NaN</td>\n",
              "      <td>NaN</td>\n",
              "      <td>NaN</td>\n",
              "      <td>NaN</td>\n",
              "      <td>1</td>\n",
              "    </tr>\n",
              "    <tr>\n",
              "      <th>1</th>\n",
              "      <td>tanapuS</td>\n",
              "      <td>2019-12-30 18:30:37</td>\n",
              "      <td>à¹à¸à¹à¸²à¸à¸²à¸§à¸¡à¸µà¸à¸¥à¸¸à¸¡à¸«à¸²à...</td>\n",
              "      <td>Generic</td>\n",
              "      <td>NaN</td>\n",
              "      <td>NaN</td>\n",
              "      <td>NaN</td>\n",
              "      <td>NaN</td>\n",
              "      <td>NaN</td>\n",
              "      <td>NaN</td>\n",
              "      <td>NaN</td>\n",
              "      <td>NaN</td>\n",
              "      <td>NaN</td>\n",
              "      <td>54</td>\n",
              "    </tr>\n",
              "    <tr>\n",
              "      <th>2</th>\n",
              "      <td>tanapuS</td>\n",
              "      <td>2019-12-30 18:30:28</td>\n",
              "      <td>5555555</td>\n",
              "      <td>Generic</td>\n",
              "      <td>NaN</td>\n",
              "      <td>NaN</td>\n",
              "      <td>NaN</td>\n",
              "      <td>NaN</td>\n",
              "      <td>NaN</td>\n",
              "      <td>NaN</td>\n",
              "      <td>NaN</td>\n",
              "      <td>NaN</td>\n",
              "      <td>NaN</td>\n",
              "      <td>7</td>\n",
              "    </tr>\n",
              "    <tr>\n",
              "      <th>3</th>\n",
              "      <td>tanapuS</td>\n",
              "      <td>2019-12-30 18:30:26</td>\n",
              "      <td>à¸¡à¸±à¸à¸¡à¸µà¸à¸µà¹à¸ à¹à¸à¸¥à¸à¸à¸·...</td>\n",
              "      <td>Generic</td>\n",
              "      <td>NaN</td>\n",
              "      <td>NaN</td>\n",
              "      <td>NaN</td>\n",
              "      <td>NaN</td>\n",
              "      <td>NaN</td>\n",
              "      <td>NaN</td>\n",
              "      <td>NaN</td>\n",
              "      <td>NaN</td>\n",
              "      <td>NaN</td>\n",
              "      <td>56</td>\n",
              "    </tr>\n",
              "    <tr>\n",
              "      <th>4</th>\n",
              "      <td>lasiapanattartreL</td>\n",
              "      <td>2019-12-30 18:13:24</td>\n",
              "      <td>à¸¡à¸±à¸à¸¡à¸µà¹à¸£à¸¡à¸±à¹à¸555</td>\n",
              "      <td>Generic</td>\n",
              "      <td>NaN</td>\n",
              "      <td>NaN</td>\n",
              "      <td>NaN</td>\n",
              "      <td>NaN</td>\n",
              "      <td>NaN</td>\n",
              "      <td>NaN</td>\n",
              "      <td>NaN</td>\n",
              "      <td>NaN</td>\n",
              "      <td>NaN</td>\n",
              "      <td>36</td>\n",
              "    </tr>\n",
              "  </tbody>\n",
              "</table>\n",
              "</div>"
            ],
            "text/plain": [
              "         sender_name        timestamp_ms  ... files content_length\n",
              "0           lopajneB 2019-12-30 18:30:48  ...   NaN              1\n",
              "1            tanapuS 2019-12-30 18:30:37  ...   NaN             54\n",
              "2            tanapuS 2019-12-30 18:30:28  ...   NaN              7\n",
              "3            tanapuS 2019-12-30 18:30:26  ...   NaN             56\n",
              "4  lasiapanattartreL 2019-12-30 18:13:24  ...   NaN             36\n",
              "\n",
              "[5 rows x 14 columns]"
            ]
          },
          "metadata": {
            "tags": []
          },
          "execution_count": 103
        }
      ]
    },
    {
      "cell_type": "markdown",
      "metadata": {
        "id": "B8SE8b3MRSSR",
        "colab_type": "text"
      },
      "source": [
        "Export result data frame into MS Excel format for further visualization "
      ]
    },
    {
      "cell_type": "code",
      "metadata": {
        "id": "giRXL1YO0Fzn",
        "colab_type": "code",
        "colab": {}
      },
      "source": [
        "data.to_excel(path + 'processed/result.xlsx' ,index = False , encoding= 'utf-8' )"
      ],
      "execution_count": 0,
      "outputs": []
    }
  ]
}