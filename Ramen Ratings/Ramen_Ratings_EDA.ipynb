{
  "nbformat": 4,
  "nbformat_minor": 0,
  "metadata": {
    "colab": {
      "name": "Ramen Ratings - EDA.ipynb",
      "provenance": [],
      "include_colab_link": true
    },
    "kernelspec": {
      "name": "python3",
      "display_name": "Python 3"
    }
  },
  "cells": [
    {
      "cell_type": "markdown",
      "metadata": {
        "id": "view-in-github",
        "colab_type": "text"
      },
      "source": [
        "<a href=\"https://colab.research.google.com/github/zenpp/Data-Science-Mini-Project/blob/master/Ramen%20Ratings/Ramen_Ratings_EDA.ipynb\" target=\"_parent\"><img src=\"https://colab.research.google.com/assets/colab-badge.svg\" alt=\"Open In Colab\"/></a>"
      ]
    },
    {
      "cell_type": "code",
      "metadata": {
        "id": "2BgHFGGZuda0",
        "colab_type": "code",
        "colab": {}
      },
      "source": [
        "import pandas as pd\n",
        "import seaborn as sns\n",
        "from matplotlib import pyplot as plt\n",
        "%matplotlib inline"
      ],
      "execution_count": 0,
      "outputs": []
    },
    {
      "cell_type": "code",
      "metadata": {
        "id": "J9xWDF7EzvIe",
        "colab_type": "code",
        "outputId": "1ec65cae-d57d-446f-a75d-1a36d6c92907",
        "colab": {
          "base_uri": "https://localhost:8080/",
          "height": 54
        }
      },
      "source": [
        "#mounted google drive for raw file importing\n",
        "from google.colab import drive\n",
        "drive.mount('/content/drive')"
      ],
      "execution_count": 0,
      "outputs": [
        {
          "output_type": "stream",
          "text": [
            "Drive already mounted at /content/drive; to attempt to forcibly remount, call drive.mount(\"/content/drive\", force_remount=True).\n"
          ],
          "name": "stdout"
        }
      ]
    },
    {
      "cell_type": "code",
      "metadata": {
        "id": "lpZ1oKCf1knM",
        "colab_type": "code",
        "outputId": "84d6bb92-6cdc-48f0-b27e-2557e7dcec61",
        "colab": {
          "base_uri": "https://localhost:8080/",
          "height": 204
        }
      },
      "source": [
        "#import raw data\n",
        "file_path = '/content/drive/My Drive/Shareable /Data Science Projects/Ramen Ratings/'\n",
        "data = pd.read_csv(file_path + 'ramen-ratings.csv')\n",
        "data.head()"
      ],
      "execution_count": 0,
      "outputs": [
        {
          "output_type": "execute_result",
          "data": {
            "text/html": [
              "<div>\n",
              "<style scoped>\n",
              "    .dataframe tbody tr th:only-of-type {\n",
              "        vertical-align: middle;\n",
              "    }\n",
              "\n",
              "    .dataframe tbody tr th {\n",
              "        vertical-align: top;\n",
              "    }\n",
              "\n",
              "    .dataframe thead th {\n",
              "        text-align: right;\n",
              "    }\n",
              "</style>\n",
              "<table border=\"1\" class=\"dataframe\">\n",
              "  <thead>\n",
              "    <tr style=\"text-align: right;\">\n",
              "      <th></th>\n",
              "      <th>Review #</th>\n",
              "      <th>Brand</th>\n",
              "      <th>Variety</th>\n",
              "      <th>Style</th>\n",
              "      <th>Country</th>\n",
              "      <th>Stars</th>\n",
              "      <th>Top Ten</th>\n",
              "    </tr>\n",
              "  </thead>\n",
              "  <tbody>\n",
              "    <tr>\n",
              "      <th>0</th>\n",
              "      <td>2580</td>\n",
              "      <td>New Touch</td>\n",
              "      <td>T's Restaurant Tantanmen</td>\n",
              "      <td>Cup</td>\n",
              "      <td>Japan</td>\n",
              "      <td>3.75</td>\n",
              "      <td>NaN</td>\n",
              "    </tr>\n",
              "    <tr>\n",
              "      <th>1</th>\n",
              "      <td>2579</td>\n",
              "      <td>Just Way</td>\n",
              "      <td>Noodles Spicy Hot Sesame Spicy Hot Sesame Guan...</td>\n",
              "      <td>Pack</td>\n",
              "      <td>Taiwan</td>\n",
              "      <td>1</td>\n",
              "      <td>NaN</td>\n",
              "    </tr>\n",
              "    <tr>\n",
              "      <th>2</th>\n",
              "      <td>2578</td>\n",
              "      <td>Nissin</td>\n",
              "      <td>Cup Noodles Chicken Vegetable</td>\n",
              "      <td>Cup</td>\n",
              "      <td>USA</td>\n",
              "      <td>2.25</td>\n",
              "      <td>NaN</td>\n",
              "    </tr>\n",
              "    <tr>\n",
              "      <th>3</th>\n",
              "      <td>2577</td>\n",
              "      <td>Wei Lih</td>\n",
              "      <td>GGE Ramen Snack Tomato Flavor</td>\n",
              "      <td>Pack</td>\n",
              "      <td>Taiwan</td>\n",
              "      <td>2.75</td>\n",
              "      <td>NaN</td>\n",
              "    </tr>\n",
              "    <tr>\n",
              "      <th>4</th>\n",
              "      <td>2576</td>\n",
              "      <td>Ching's Secret</td>\n",
              "      <td>Singapore Curry</td>\n",
              "      <td>Pack</td>\n",
              "      <td>India</td>\n",
              "      <td>3.75</td>\n",
              "      <td>NaN</td>\n",
              "    </tr>\n",
              "  </tbody>\n",
              "</table>\n",
              "</div>"
            ],
            "text/plain": [
              "   Review #           Brand  ... Stars Top Ten\n",
              "0      2580       New Touch  ...  3.75     NaN\n",
              "1      2579        Just Way  ...     1     NaN\n",
              "2      2578          Nissin  ...  2.25     NaN\n",
              "3      2577         Wei Lih  ...  2.75     NaN\n",
              "4      2576  Ching's Secret  ...  3.75     NaN\n",
              "\n",
              "[5 rows x 7 columns]"
            ]
          },
          "metadata": {
            "tags": []
          },
          "execution_count": 22
        }
      ]
    },
    {
      "cell_type": "code",
      "metadata": {
        "id": "L8JccBII7eEj",
        "colab_type": "code",
        "outputId": "2c952333-0289-4bb5-dc23-2c3faf0d9773",
        "colab": {
          "base_uri": "https://localhost:8080/",
          "height": 221
        }
      },
      "source": [
        "data.info()"
      ],
      "execution_count": 0,
      "outputs": [
        {
          "output_type": "stream",
          "text": [
            "<class 'pandas.core.frame.DataFrame'>\n",
            "RangeIndex: 2580 entries, 0 to 2579\n",
            "Data columns (total 7 columns):\n",
            "Review #    2580 non-null int64\n",
            "Brand       2580 non-null object\n",
            "Variety     2580 non-null object\n",
            "Style       2578 non-null object\n",
            "Country     2580 non-null object\n",
            "Stars       2580 non-null object\n",
            "Top Ten     41 non-null object\n",
            "dtypes: int64(1), object(6)\n",
            "memory usage: 141.2+ KB\n"
          ],
          "name": "stdout"
        }
      ]
    },
    {
      "cell_type": "code",
      "metadata": {
        "id": "1g774wUlCCQc",
        "colab_type": "code",
        "outputId": "6f0fb29b-0608-48f5-83c6-cf085ac1392c",
        "colab": {
          "base_uri": "https://localhost:8080/",
          "height": 119
        }
      },
      "source": [
        "#check column Stars becuase it supposed to be a numeric type\n",
        "data['Stars'].unique()"
      ],
      "execution_count": 0,
      "outputs": [
        {
          "output_type": "execute_result",
          "data": {
            "text/plain": [
              "array(['3.75', '1', '2.25', '2.75', '4.75', '4', '0.25', '2.5', '5',\n",
              "       '4.25', '4.5', '3.5', 'Unrated', '1.5', '3.25', '2', '0', '3',\n",
              "       '0.5', '4.00', '5.0', '3.50', '3.8', '4.3', '2.3', '5.00', '3.3',\n",
              "       '4.0', '3.00', '1.75', '3.0', '4.50', '0.75', '1.25', '1.1', '2.1',\n",
              "       '0.9', '3.1', '4.125', '3.125', '2.125', '2.9', '0.1', '2.8',\n",
              "       '3.7', '3.4', '3.6', '2.85', '3.2', '3.65', '1.8'], dtype=object)"
            ]
          },
          "metadata": {
            "tags": []
          },
          "execution_count": 24
        }
      ]
    },
    {
      "cell_type": "code",
      "metadata": {
        "id": "ZOtNWcqPE-lJ",
        "colab_type": "code",
        "outputId": "50615f5b-ec64-4d0a-f184-8c0bb6940869",
        "colab": {
          "base_uri": "https://localhost:8080/",
          "height": 142
        }
      },
      "source": [
        "#we found that there is string 'Unreated' so we check it first\n",
        "data[data['Stars'] == 'Unrated']"
      ],
      "execution_count": 0,
      "outputs": [
        {
          "output_type": "execute_result",
          "data": {
            "text/html": [
              "<div>\n",
              "<style scoped>\n",
              "    .dataframe tbody tr th:only-of-type {\n",
              "        vertical-align: middle;\n",
              "    }\n",
              "\n",
              "    .dataframe tbody tr th {\n",
              "        vertical-align: top;\n",
              "    }\n",
              "\n",
              "    .dataframe thead th {\n",
              "        text-align: right;\n",
              "    }\n",
              "</style>\n",
              "<table border=\"1\" class=\"dataframe\">\n",
              "  <thead>\n",
              "    <tr style=\"text-align: right;\">\n",
              "      <th></th>\n",
              "      <th>Review #</th>\n",
              "      <th>Brand</th>\n",
              "      <th>Variety</th>\n",
              "      <th>Style</th>\n",
              "      <th>Country</th>\n",
              "      <th>Stars</th>\n",
              "      <th>Top Ten</th>\n",
              "    </tr>\n",
              "  </thead>\n",
              "  <tbody>\n",
              "    <tr>\n",
              "      <th>32</th>\n",
              "      <td>2548</td>\n",
              "      <td>Ottogi</td>\n",
              "      <td>Plain Instant Noodle No Soup Included</td>\n",
              "      <td>Pack</td>\n",
              "      <td>South Korea</td>\n",
              "      <td>Unrated</td>\n",
              "      <td>NaN</td>\n",
              "    </tr>\n",
              "    <tr>\n",
              "      <th>122</th>\n",
              "      <td>2458</td>\n",
              "      <td>Samyang Foods</td>\n",
              "      <td>Sari Ramen</td>\n",
              "      <td>Pack</td>\n",
              "      <td>South Korea</td>\n",
              "      <td>Unrated</td>\n",
              "      <td>NaN</td>\n",
              "    </tr>\n",
              "    <tr>\n",
              "      <th>993</th>\n",
              "      <td>1587</td>\n",
              "      <td>Mi E-Zee</td>\n",
              "      <td>Plain Noodles</td>\n",
              "      <td>Pack</td>\n",
              "      <td>Malaysia</td>\n",
              "      <td>Unrated</td>\n",
              "      <td>NaN</td>\n",
              "    </tr>\n",
              "  </tbody>\n",
              "</table>\n",
              "</div>"
            ],
            "text/plain": [
              "     Review #          Brand  ...    Stars Top Ten\n",
              "32       2548         Ottogi  ...  Unrated     NaN\n",
              "122      2458  Samyang Foods  ...  Unrated     NaN\n",
              "993      1587       Mi E-Zee  ...  Unrated     NaN\n",
              "\n",
              "[3 rows x 7 columns]"
            ]
          },
          "metadata": {
            "tags": []
          },
          "execution_count": 25
        }
      ]
    },
    {
      "cell_type": "code",
      "metadata": {
        "id": "Bo3Buq4NF0P5",
        "colab_type": "code",
        "colab": {}
      },
      "source": [
        "#we can drop those rows because it's a very small number \n",
        "data = data.drop(data[data['Stars'] == 'Unrated'].index)"
      ],
      "execution_count": 0,
      "outputs": []
    },
    {
      "cell_type": "code",
      "metadata": {
        "id": "ex0Hl9G1Gpop",
        "colab_type": "code",
        "outputId": "cee00892-fab9-429a-cdf8-4f2e798f7563",
        "colab": {
          "base_uri": "https://localhost:8080/",
          "height": 221
        }
      },
      "source": [
        "#change column Stars to numeric type\n",
        "data['Stars'] = pd.to_numeric(data['Stars'])\n",
        "data.info()"
      ],
      "execution_count": 0,
      "outputs": [
        {
          "output_type": "stream",
          "text": [
            "<class 'pandas.core.frame.DataFrame'>\n",
            "Int64Index: 2577 entries, 0 to 2579\n",
            "Data columns (total 7 columns):\n",
            "Review #    2577 non-null int64\n",
            "Brand       2577 non-null object\n",
            "Variety     2577 non-null object\n",
            "Style       2575 non-null object\n",
            "Country     2577 non-null object\n",
            "Stars       2577 non-null float64\n",
            "Top Ten     41 non-null object\n",
            "dtypes: float64(1), int64(1), object(5)\n",
            "memory usage: 161.1+ KB\n"
          ],
          "name": "stdout"
        }
      ]
    },
    {
      "cell_type": "code",
      "metadata": {
        "id": "scbgbN5KHUb5",
        "colab_type": "code",
        "outputId": "2cefd983-e727-4f41-8538-8ab764babd96",
        "colab": {
          "base_uri": "https://localhost:8080/",
          "height": 297
        }
      },
      "source": [
        "#check some statistics of column stars \n",
        "#seems like it has a highly skewed\n",
        "data.describe()"
      ],
      "execution_count": 0,
      "outputs": [
        {
          "output_type": "execute_result",
          "data": {
            "text/html": [
              "<div>\n",
              "<style scoped>\n",
              "    .dataframe tbody tr th:only-of-type {\n",
              "        vertical-align: middle;\n",
              "    }\n",
              "\n",
              "    .dataframe tbody tr th {\n",
              "        vertical-align: top;\n",
              "    }\n",
              "\n",
              "    .dataframe thead th {\n",
              "        text-align: right;\n",
              "    }\n",
              "</style>\n",
              "<table border=\"1\" class=\"dataframe\">\n",
              "  <thead>\n",
              "    <tr style=\"text-align: right;\">\n",
              "      <th></th>\n",
              "      <th>Review #</th>\n",
              "      <th>Stars</th>\n",
              "    </tr>\n",
              "  </thead>\n",
              "  <tbody>\n",
              "    <tr>\n",
              "      <th>count</th>\n",
              "      <td>2577.000000</td>\n",
              "      <td>2577.000000</td>\n",
              "    </tr>\n",
              "    <tr>\n",
              "      <th>mean</th>\n",
              "      <td>1289.443927</td>\n",
              "      <td>3.654676</td>\n",
              "    </tr>\n",
              "    <tr>\n",
              "      <th>std</th>\n",
              "      <td>744.569010</td>\n",
              "      <td>1.015331</td>\n",
              "    </tr>\n",
              "    <tr>\n",
              "      <th>min</th>\n",
              "      <td>1.000000</td>\n",
              "      <td>0.000000</td>\n",
              "    </tr>\n",
              "    <tr>\n",
              "      <th>25%</th>\n",
              "      <td>645.000000</td>\n",
              "      <td>3.250000</td>\n",
              "    </tr>\n",
              "    <tr>\n",
              "      <th>50%</th>\n",
              "      <td>1289.000000</td>\n",
              "      <td>3.750000</td>\n",
              "    </tr>\n",
              "    <tr>\n",
              "      <th>75%</th>\n",
              "      <td>1934.000000</td>\n",
              "      <td>4.250000</td>\n",
              "    </tr>\n",
              "    <tr>\n",
              "      <th>max</th>\n",
              "      <td>2580.000000</td>\n",
              "      <td>5.000000</td>\n",
              "    </tr>\n",
              "  </tbody>\n",
              "</table>\n",
              "</div>"
            ],
            "text/plain": [
              "          Review #        Stars\n",
              "count  2577.000000  2577.000000\n",
              "mean   1289.443927     3.654676\n",
              "std     744.569010     1.015331\n",
              "min       1.000000     0.000000\n",
              "25%     645.000000     3.250000\n",
              "50%    1289.000000     3.750000\n",
              "75%    1934.000000     4.250000\n",
              "max    2580.000000     5.000000"
            ]
          },
          "metadata": {
            "tags": []
          },
          "execution_count": 28
        }
      ]
    },
    {
      "cell_type": "code",
      "metadata": {
        "id": "2gDPJwn1H6FU",
        "colab_type": "code",
        "outputId": "3868dd55-704e-4dca-e0e2-54213f5ec3ec",
        "colab": {
          "base_uri": "https://localhost:8080/",
          "height": 884
        }
      },
      "source": [
        "fig, axs = plt.subplots(nrows=3)\n",
        "fig.set_size_inches(10,15)\n",
        "sns.countplot(x = 'Style' ,data = data ,order = data['Style'].value_counts().index , ax=axs[0])\n",
        "sns.barplot(x = data['Brand'].value_counts().head(10).index , y = data['Brand'].value_counts().head(10) , ax=axs[1])\n",
        "sns.barplot(x = data['Country'].value_counts().head(10).index , y = data['Country'].value_counts().head(10) , ax=axs[2])"
      ],
      "execution_count": 0,
      "outputs": [
        {
          "output_type": "execute_result",
          "data": {
            "text/plain": [
              "<matplotlib.axes._subplots.AxesSubplot at 0x7f4fbbc3a320>"
            ]
          },
          "metadata": {
            "tags": []
          },
          "execution_count": 64
        },
        {
          "output_type": "display_data",
          "data": {
            "image/png": "[encoded data removed]",
            "text/plain": [
              "<Figure size 720x1080 with 3 Axes>"
            ]
          },
          "metadata": {
            "tags": []
          }
        }
      ]
    },
    {
      "cell_type": "code",
      "metadata": {
        "id": "DSiSSBK7-0WL",
        "colab_type": "code",
        "outputId": "b973a3dd-1260-439b-e43e-e041a512ef2c",
        "colab": {
          "base_uri": "https://localhost:8080/",
          "height": 300
        }
      },
      "source": [
        "sns.distplot(data['Stars'] , kde = False)"
      ],
      "execution_count": 0,
      "outputs": [
        {
          "output_type": "execute_result",
          "data": {
            "text/plain": [
              "<matplotlib.axes._subplots.AxesSubplot at 0x7f4fc33045c0>"
            ]
          },
          "metadata": {
            "tags": []
          },
          "execution_count": 30
        },
        {
          "output_type": "display_data",
          "data": {
            "image/png": "[encoded data removed]",
            "text/plain": [
              "<Figure size 432x288 with 1 Axes>"
            ]
          },
          "metadata": {
            "tags": []
          }
        }
      ]
    },
    {
      "cell_type": "code",
      "metadata": {
        "id": "2VlYQaADEyxI",
        "colab_type": "code",
        "outputId": "8b6381b0-ab8e-408c-c948-43908dda264e",
        "colab": {
          "base_uri": "https://localhost:8080/",
          "height": 1000
        }
      },
      "source": [
        "fig, axs = plt.subplots(nrows=1)\n",
        "fig.set_size_inches(15,5)\n",
        "cr = sns.boxplot(x = 'Country' , y = 'Stars' , data = data)\n",
        "cr.set_xticklabels(cr.get_xticklabels(), rotation=90)"
      ],
      "execution_count": 0,
      "outputs": [
        {
          "output_type": "execute_result",
          "data": {
            "text/plain": [
              "[Text(0, 0, 'Japan'),\n",
              " Text(0, 0, 'Taiwan'),\n",
              " Text(0, 0, 'USA'),\n",
              " Text(0, 0, 'India'),\n",
              " Text(0, 0, 'South Korea'),\n",
              " Text(0, 0, 'Singapore'),\n",
              " Text(0, 0, 'Thailand'),\n",
              " Text(0, 0, 'Hong Kong'),\n",
              " Text(0, 0, 'Vietnam'),\n",
              " Text(0, 0, 'Ghana'),\n",
              " Text(0, 0, 'Malaysia'),\n",
              " Text(0, 0, 'Indonesia'),\n",
              " Text(0, 0, 'China'),\n",
              " Text(0, 0, 'Nigeria'),\n",
              " Text(0, 0, 'Germany'),\n",
              " Text(0, 0, 'Hungary'),\n",
              " Text(0, 0, 'Mexico'),\n",
              " Text(0, 0, 'Fiji'),\n",
              " Text(0, 0, 'Australia'),\n",
              " Text(0, 0, 'Pakistan'),\n",
              " Text(0, 0, 'Bangladesh'),\n",
              " Text(0, 0, 'Canada'),\n",
              " Text(0, 0, 'Nepal'),\n",
              " Text(0, 0, 'Brazil'),\n",
              " Text(0, 0, 'UK'),\n",
              " Text(0, 0, 'Myanmar'),\n",
              " Text(0, 0, 'Netherlands'),\n",
              " Text(0, 0, 'United States'),\n",
              " Text(0, 0, 'Cambodia'),\n",
              " Text(0, 0, 'Finland'),\n",
              " Text(0, 0, 'Sarawak'),\n",
              " Text(0, 0, 'Philippines'),\n",
              " Text(0, 0, 'Sweden'),\n",
              " Text(0, 0, 'Colombia'),\n",
              " Text(0, 0, 'Estonia'),\n",
              " Text(0, 0, 'Holland'),\n",
              " Text(0, 0, 'Poland'),\n",
              " Text(0, 0, 'Dubai')]"
            ]
          },
          "metadata": {
            "tags": []
          },
          "execution_count": 77
        },
        {
          "output_type": "display_data",
          "data": {
            "image/png": "[encoded data removed]",
            "text/plain": [
              "<Figure size 1080x360 with 1 Axes>"
            ]
          },
          "metadata": {
            "tags": []
          }
        }
      ]
    }
  ]
}